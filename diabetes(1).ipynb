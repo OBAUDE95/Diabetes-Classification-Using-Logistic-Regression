{
 "cells": [
  {
   "cell_type": "markdown",
   "id": "2a0f04f3",
   "metadata": {},
   "source": [
    "### Diabetes Prediction System: A Logistic Regression Approach\n",
    "This project aims to develop a logistic regression model to predict diabetes risk based on various health metrics. It includes data preprocessing, exploratory data analysis, and model evaluation using confusion matrices and classification reports. The findings highlight significant correlations, informing health risk assessments and interventions.\n",
    "\n",
    "The dataset contains a list of features or variables, which appear to represent medical and demographic information. Here’s a brief explanation of each feature:\n",
    "\n",
    "1. **ID**:  \n",
    "   - A unique identifier for each individual or observation in the dataset. This helps in differentiating between records.\n",
    "\n",
    "2. **No_Pation**:  \n",
    "   - Likely a unique patient number, possibly referring to the number assigned to a patient for medical records. It may serve a similar purpose as `ID`, or could represent the number of times a patient has visited.\n",
    "\n",
    "3. **Gender**:  \n",
    "   - The gender of the individual, likely coded as 'M' for male and 'F' for female. It represents a demographic characteristic.\n",
    "\n",
    "4. **AGE**:  \n",
    "   - The age of the individual, most likely in years. This is a continuous variable and provides important demographic information.\n",
    "\n",
    "5. **Urea**:  \n",
    "   - Refers to **blood urea levels**, which are used to assess kidney function. Urea is a waste product formed in the liver and removed from the blood by the kidneys.\n",
    "   \n",
    "6. **Cr**:  \n",
    "   - Short for **creatinine**, another important marker of kidney function. Elevated creatinine levels can indicate impaired kidney function.\n",
    "   \n",
    "7. **HbA1c**:  \n",
    "   - This represents **Hemoglobin A1c**, which is a measure of blood sugar levels over the past 2-3 months. It is commonly used to monitor diabetes control.\n",
    "   \n",
    "8. **Chol**:  \n",
    "   - Short for **cholesterol**, referring to the total cholesterol level in the blood. High cholesterol is a risk factor for cardiovascular diseases.\n",
    "\n",
    "9. **TG**:  \n",
    "   - Refers to **triglycerides**, a type of fat found in the blood. High triglyceride levels can increase the risk of heart disease.\n",
    "\n",
    "10. **HDL**:  \n",
    "    - **High-Density Lipoprotein (HDL)**, often referred to as \"good\" cholesterol. Higher HDL levels are generally considered beneficial for cardiovascular health.\n",
    "\n",
    "11. **LDL**:  \n",
    "    - **Low-Density Lipoprotein (LDL)**, often referred to as \"bad\" cholesterol. High LDL levels can lead to the buildup of fatty deposits in arteries, increasing the risk of heart disease and stroke.\n",
    "\n",
    "12. **VLDL**:  \n",
    "    - **Very Low-Density Lipoprotein (VLDL)**, another type of lipoprotein, primarily responsible for carrying triglycerides in the blood. High levels are associated with a higher risk of cardiovascular problems.\n",
    "\n",
    "13. **BMI**:  \n",
    "    - **Body Mass Index (BMI)**, a measure of body fat based on weight and height. It helps assess whether an individual is underweight, normal weight, overweight, or obese.\n",
    "\n",
    "14. **CLASS**:  \n",
    "    - This likely refers to the **target variable** or the **classification label** in the dataset, indicating different categories (e.g., diabetic vs. non-diabetic, healthy vs. unhealthy, or various stages of a medical condition). It could be used for classification tasks in predictive modeling.\n",
    "\n",
    "### Overall:\n",
    "These features appear to be from a **medical dataset** that involves patient demographic data (e.g., gender, age), metabolic markers (e.g., cholesterol, triglycerides), and clinical lab values (e.g., urea, creatinine) to possibly diagnose or monitor certain health conditions like **diabetes**, **kidney function**, and **cardiovascular health**.\n",
    "\n",
    "Would you like a more detailed breakdown of any of these features or help with an analysis using them?"
   ]
  },
  {
   "cell_type": "code",
   "execution_count": 116,
   "id": "f1ac2fdb",
   "metadata": {},
   "outputs": [
    {
     "data": {
      "text/html": [
       "<div>\n",
       "<style scoped>\n",
       "    .dataframe tbody tr th:only-of-type {\n",
       "        vertical-align: middle;\n",
       "    }\n",
       "\n",
       "    .dataframe tbody tr th {\n",
       "        vertical-align: top;\n",
       "    }\n",
       "\n",
       "    .dataframe thead th {\n",
       "        text-align: right;\n",
       "    }\n",
       "</style>\n",
       "<table border=\"1\" class=\"dataframe\">\n",
       "  <thead>\n",
       "    <tr style=\"text-align: right;\">\n",
       "      <th></th>\n",
       "      <th>ID</th>\n",
       "      <th>No_Pation</th>\n",
       "      <th>Gender</th>\n",
       "      <th>AGE</th>\n",
       "      <th>Urea</th>\n",
       "      <th>Cr</th>\n",
       "      <th>HbA1c</th>\n",
       "      <th>Chol</th>\n",
       "      <th>TG</th>\n",
       "      <th>HDL</th>\n",
       "      <th>LDL</th>\n",
       "      <th>VLDL</th>\n",
       "      <th>BMI</th>\n",
       "      <th>CLASS</th>\n",
       "    </tr>\n",
       "  </thead>\n",
       "  <tbody>\n",
       "    <tr>\n",
       "      <th>0</th>\n",
       "      <td>502</td>\n",
       "      <td>17975</td>\n",
       "      <td>F</td>\n",
       "      <td>50</td>\n",
       "      <td>4.7</td>\n",
       "      <td>46</td>\n",
       "      <td>4.9</td>\n",
       "      <td>4.2</td>\n",
       "      <td>0.9</td>\n",
       "      <td>2.4</td>\n",
       "      <td>1.4</td>\n",
       "      <td>0.5</td>\n",
       "      <td>24.0</td>\n",
       "      <td>N</td>\n",
       "    </tr>\n",
       "    <tr>\n",
       "      <th>1</th>\n",
       "      <td>735</td>\n",
       "      <td>34221</td>\n",
       "      <td>M</td>\n",
       "      <td>26</td>\n",
       "      <td>4.5</td>\n",
       "      <td>62</td>\n",
       "      <td>4.9</td>\n",
       "      <td>3.7</td>\n",
       "      <td>1.4</td>\n",
       "      <td>1.1</td>\n",
       "      <td>2.1</td>\n",
       "      <td>0.6</td>\n",
       "      <td>23.0</td>\n",
       "      <td>N</td>\n",
       "    </tr>\n",
       "    <tr>\n",
       "      <th>2</th>\n",
       "      <td>420</td>\n",
       "      <td>47975</td>\n",
       "      <td>F</td>\n",
       "      <td>50</td>\n",
       "      <td>4.7</td>\n",
       "      <td>46</td>\n",
       "      <td>4.9</td>\n",
       "      <td>4.2</td>\n",
       "      <td>0.9</td>\n",
       "      <td>2.4</td>\n",
       "      <td>1.4</td>\n",
       "      <td>0.5</td>\n",
       "      <td>24.0</td>\n",
       "      <td>N</td>\n",
       "    </tr>\n",
       "    <tr>\n",
       "      <th>3</th>\n",
       "      <td>680</td>\n",
       "      <td>87656</td>\n",
       "      <td>F</td>\n",
       "      <td>50</td>\n",
       "      <td>4.7</td>\n",
       "      <td>46</td>\n",
       "      <td>4.9</td>\n",
       "      <td>4.2</td>\n",
       "      <td>0.9</td>\n",
       "      <td>2.4</td>\n",
       "      <td>1.4</td>\n",
       "      <td>0.5</td>\n",
       "      <td>24.0</td>\n",
       "      <td>N</td>\n",
       "    </tr>\n",
       "    <tr>\n",
       "      <th>4</th>\n",
       "      <td>504</td>\n",
       "      <td>34223</td>\n",
       "      <td>M</td>\n",
       "      <td>33</td>\n",
       "      <td>7.1</td>\n",
       "      <td>46</td>\n",
       "      <td>4.9</td>\n",
       "      <td>4.9</td>\n",
       "      <td>1.0</td>\n",
       "      <td>0.8</td>\n",
       "      <td>2.0</td>\n",
       "      <td>0.4</td>\n",
       "      <td>21.0</td>\n",
       "      <td>N</td>\n",
       "    </tr>\n",
       "  </tbody>\n",
       "</table>\n",
       "</div>"
      ],
      "text/plain": [
       "    ID  No_Pation Gender  AGE  Urea  Cr  HbA1c  Chol   TG  HDL  LDL  VLDL  \\\n",
       "0  502      17975      F   50   4.7  46    4.9   4.2  0.9  2.4  1.4   0.5   \n",
       "1  735      34221      M   26   4.5  62    4.9   3.7  1.4  1.1  2.1   0.6   \n",
       "2  420      47975      F   50   4.7  46    4.9   4.2  0.9  2.4  1.4   0.5   \n",
       "3  680      87656      F   50   4.7  46    4.9   4.2  0.9  2.4  1.4   0.5   \n",
       "4  504      34223      M   33   7.1  46    4.9   4.9  1.0  0.8  2.0   0.4   \n",
       "\n",
       "    BMI CLASS  \n",
       "0  24.0     N  \n",
       "1  23.0     N  \n",
       "2  24.0     N  \n",
       "3  24.0     N  \n",
       "4  21.0     N  "
      ]
     },
     "execution_count": 116,
     "metadata": {},
     "output_type": "execute_result"
    }
   ],
   "source": [
    "import pandas as pd\n",
    "\n",
    "filepath = \"C:/Users/USER/Documents/workspaces/diabetes.csv\"\n",
    "\n",
    "data = pd.read_csv(filepath)\n",
    "\n",
    "data.head()\n"
   ]
  },
  {
   "cell_type": "code",
   "execution_count": 117,
   "id": "29cd97e1",
   "metadata": {},
   "outputs": [
    {
     "name": "stdout",
     "output_type": "stream",
     "text": [
      "<class 'pandas.core.frame.DataFrame'>\n",
      "RangeIndex: 1000 entries, 0 to 999\n",
      "Data columns (total 14 columns):\n",
      " #   Column     Non-Null Count  Dtype  \n",
      "---  ------     --------------  -----  \n",
      " 0   ID         1000 non-null   int64  \n",
      " 1   No_Pation  1000 non-null   int64  \n",
      " 2   Gender     1000 non-null   object \n",
      " 3   AGE        1000 non-null   int64  \n",
      " 4   Urea       1000 non-null   float64\n",
      " 5   Cr         1000 non-null   int64  \n",
      " 6   HbA1c      1000 non-null   float64\n",
      " 7   Chol       1000 non-null   float64\n",
      " 8   TG         1000 non-null   float64\n",
      " 9   HDL        1000 non-null   float64\n",
      " 10  LDL        1000 non-null   float64\n",
      " 11  VLDL       1000 non-null   float64\n",
      " 12  BMI        1000 non-null   float64\n",
      " 13  CLASS      1000 non-null   object \n",
      "dtypes: float64(8), int64(4), object(2)\n",
      "memory usage: 109.5+ KB\n"
     ]
    }
   ],
   "source": [
    "data.info()"
   ]
  },
  {
   "cell_type": "code",
   "execution_count": 118,
   "id": "5a626c8e",
   "metadata": {},
   "outputs": [
    {
     "data": {
      "text/plain": [
       "Index(['ID', 'No_Pation', 'Gender', 'AGE', 'Urea', 'Cr', 'HbA1c', 'Chol', 'TG',\n",
       "       'HDL', 'LDL', 'VLDL', 'BMI', 'CLASS'],\n",
       "      dtype='object')"
      ]
     },
     "execution_count": 118,
     "metadata": {},
     "output_type": "execute_result"
    }
   ],
   "source": [
    "data.columns"
   ]
  },
  {
   "cell_type": "markdown",
   "id": "090c9137",
   "metadata": {},
   "source": [
    "#### checking for missing value and duplicate"
   ]
  },
  {
   "cell_type": "code",
   "execution_count": 119,
   "id": "6f057f99",
   "metadata": {},
   "outputs": [
    {
     "data": {
      "text/plain": [
       "ID           0\n",
       "No_Pation    0\n",
       "Gender       0\n",
       "AGE          0\n",
       "Urea         0\n",
       "Cr           0\n",
       "HbA1c        0\n",
       "Chol         0\n",
       "TG           0\n",
       "HDL          0\n",
       "LDL          0\n",
       "VLDL         0\n",
       "BMI          0\n",
       "CLASS        0\n",
       "dtype: int64"
      ]
     },
     "execution_count": 119,
     "metadata": {},
     "output_type": "execute_result"
    }
   ],
   "source": [
    "data.isna().sum()"
   ]
  },
  {
   "cell_type": "code",
   "execution_count": 120,
   "id": "f5e66b87",
   "metadata": {},
   "outputs": [
    {
     "data": {
      "text/plain": [
       "0"
      ]
     },
     "execution_count": 120,
     "metadata": {},
     "output_type": "execute_result"
    }
   ],
   "source": [
    "data.duplicated().sum()"
   ]
  },
  {
   "cell_type": "markdown",
   "id": "ffa4bc50",
   "metadata": {},
   "source": [
    "### checking for anomaly"
   ]
  },
  {
   "cell_type": "code",
   "execution_count": 121,
   "id": "ea45851b",
   "metadata": {},
   "outputs": [
    {
     "data": {
      "text/plain": [
       "array(['F', 'M', 'f'], dtype=object)"
      ]
     },
     "execution_count": 121,
     "metadata": {},
     "output_type": "execute_result"
    }
   ],
   "source": [
    "data['Gender'].unique()"
   ]
  },
  {
   "cell_type": "code",
   "execution_count": 122,
   "id": "135745fe",
   "metadata": {},
   "outputs": [
    {
     "data": {
      "text/plain": [
       "array(['N', 'N ', 'P', 'Y', 'Y '], dtype=object)"
      ]
     },
     "execution_count": 122,
     "metadata": {},
     "output_type": "execute_result"
    }
   ],
   "source": [
    "data['CLASS'].unique()"
   ]
  },
  {
   "cell_type": "markdown",
   "id": "9a958138",
   "metadata": {},
   "source": [
    "### fixing gender anomaly"
   ]
  },
  {
   "cell_type": "code",
   "execution_count": 123,
   "id": "c6b300f7",
   "metadata": {},
   "outputs": [],
   "source": [
    "def replace_f(x):\n",
    "    if x == \"f\":\n",
    "        return \"F\"\n",
    "    else:\n",
    "        return x\n",
    "    "
   ]
  },
  {
   "cell_type": "code",
   "execution_count": 124,
   "id": "14b114e6",
   "metadata": {},
   "outputs": [],
   "source": [
    "data['Gender'] = data.Gender.apply(replace_f)"
   ]
  },
  {
   "cell_type": "markdown",
   "id": "f391a638",
   "metadata": {},
   "source": [
    "#### checking for correction"
   ]
  },
  {
   "cell_type": "code",
   "execution_count": 125,
   "id": "b45cb100",
   "metadata": {},
   "outputs": [
    {
     "data": {
      "text/plain": [
       "array(['F', 'M'], dtype=object)"
      ]
     },
     "execution_count": 125,
     "metadata": {},
     "output_type": "execute_result"
    }
   ],
   "source": [
    "data['Gender'].unique()"
   ]
  },
  {
   "cell_type": "markdown",
   "id": "e154f01c",
   "metadata": {},
   "source": [
    "#### fixing class anomaly"
   ]
  },
  {
   "cell_type": "code",
   "execution_count": 126,
   "id": "4652e236",
   "metadata": {},
   "outputs": [],
   "source": [
    "def fix_class(x):\n",
    "    if x.strip() == \"N\":\n",
    "        return \"N\"\n",
    "    elif x.strip() == \"Y\" or x.strip() == \"P\":\n",
    "        return \"Y\""
   ]
  },
  {
   "cell_type": "code",
   "execution_count": 127,
   "id": "9f28a6b1",
   "metadata": {},
   "outputs": [],
   "source": [
    "data['CLASS'] = data['CLASS'].apply(fix_class)"
   ]
  },
  {
   "cell_type": "markdown",
   "id": "cad50254",
   "metadata": {},
   "source": [
    "#### CHECKING FOR CORRECTION ON CLASS"
   ]
  },
  {
   "cell_type": "code",
   "execution_count": 128,
   "id": "349d908b",
   "metadata": {},
   "outputs": [
    {
     "data": {
      "text/plain": [
       "array(['N', 'Y'], dtype=object)"
      ]
     },
     "execution_count": 128,
     "metadata": {},
     "output_type": "execute_result"
    }
   ],
   "source": [
    "data['CLASS'].unique()"
   ]
  },
  {
   "cell_type": "code",
   "execution_count": 129,
   "id": "caf3e8e0",
   "metadata": {},
   "outputs": [
    {
     "data": {
      "text/plain": [
       "'DATA CLEANED'"
      ]
     },
     "execution_count": 129,
     "metadata": {},
     "output_type": "execute_result"
    }
   ],
   "source": [
    "\"DATA CLEANED\""
   ]
  },
  {
   "cell_type": "markdown",
   "id": "41d1200c",
   "metadata": {},
   "source": [
    "#### Exploratory data analysis "
   ]
  },
  {
   "cell_type": "markdown",
   "id": "0ef68856",
   "metadata": {},
   "source": [
    "### WHAT IS THEIR MEAN AGE"
   ]
  },
  {
   "cell_type": "code",
   "execution_count": 130,
   "id": "63c00b82",
   "metadata": {},
   "outputs": [
    {
     "data": {
      "text/plain": [
       "53.528"
      ]
     },
     "execution_count": 130,
     "metadata": {},
     "output_type": "execute_result"
    }
   ],
   "source": [
    "data['AGE'].mean()"
   ]
  },
  {
   "cell_type": "markdown",
   "id": "c9051ab5",
   "metadata": {},
   "source": [
    "#### MEAN AGE BY GENDER"
   ]
  },
  {
   "cell_type": "code",
   "execution_count": 131,
   "id": "90b9df83",
   "metadata": {},
   "outputs": [
    {
     "name": "stderr",
     "output_type": "stream",
     "text": [
      "C:\\Users\\USER\\AppData\\Local\\Temp\\ipykernel_8944\\852053407.py:1: FutureWarning: The default value of numeric_only in DataFrameGroupBy.mean is deprecated. In a future version, numeric_only will default to False. Either specify numeric_only or select only columns which should be valid for the function.\n",
      "  data.groupby([\"Gender\"]).mean()['AGE']\n"
     ]
    },
    {
     "data": {
      "text/plain": [
       "Gender\n",
       "F    53.312644\n",
       "M    53.693805\n",
       "Name: AGE, dtype: float64"
      ]
     },
     "execution_count": 131,
     "metadata": {},
     "output_type": "execute_result"
    }
   ],
   "source": [
    "data.groupby([\"Gender\"]).mean()['AGE']"
   ]
  },
  {
   "cell_type": "code",
   "execution_count": 132,
   "id": "5b1c3888",
   "metadata": {
    "scrolled": true
   },
   "outputs": [
    {
     "name": "stderr",
     "output_type": "stream",
     "text": [
      "C:\\Users\\USER\\AppData\\Local\\Temp\\ipykernel_8944\\3351372762.py:1: FutureWarning: The default value of numeric_only in DataFrameGroupBy.std is deprecated. In a future version, numeric_only will default to False. Either specify numeric_only or select only columns which should be valid for the function.\n",
      "  data.groupby([\"Gender\"]).std()['AGE']\n"
     ]
    },
    {
     "data": {
      "text/plain": [
       "Gender\n",
       "F    9.017581\n",
       "M    8.631752\n",
       "Name: AGE, dtype: float64"
      ]
     },
     "execution_count": 132,
     "metadata": {},
     "output_type": "execute_result"
    }
   ],
   "source": [
    "data.groupby([\"Gender\"]).std()['AGE']"
   ]
  },
  {
   "cell_type": "markdown",
   "id": "a6b80e7d",
   "metadata": {},
   "source": [
    "#### Interpretation"
   ]
  },
  {
   "cell_type": "markdown",
   "id": "08bce4a7",
   "metadata": {},
   "source": [
    "#### Simple Interpretation for female:\n",
    "\n",
    "    The mean age for females is 53.31 years, indicating that, on average, females in the dataset are around 53.31 years old.\n",
    "    The standard deviation is 9.02 years, which means most female ages fall within 9.02 years above or below the mean. Specifically, most females are between 44.29 years (53.31 - 9.02) and 62.33 years (53.31 + 9.02).\n",
    "\n",
    "2. Detailed Interpretation:\n",
    "\n",
    "    The mean age of 53.31 years indicates the central value (average) for female participants.\n",
    "    The standard deviation of 9.02 years shows the variation around the mean. In a normal distribution:\n",
    "        68% of female ages fall within one standard deviation, between 44.29 years and 62.33 years.\n",
    "        95% of female ages will be within two standard deviations, between 35.27 years and 71.35 years.\n",
    "\n",
    "This standard deviation suggests a moderate spread, meaning that while most females are near the mean age of 53.31, there is some variation across the ages."
   ]
  },
  {
   "cell_type": "markdown",
   "id": "e7331f2a",
   "metadata": {},
   "source": [
    "#### Simple Interpretation for male:\n",
    "\n",
    "    The mean age for males is 53.69 years. This means that, on average, males in the dataset are around 53.69 years old.   \n",
    "    The standard deviation is 8.63 years, indicating that most male ages fall within 8.63 years above or below the mean. In other words, most males are between 45.06 years (53.69 - 8.63) and 62.32 years (53.69 + 8.63).\n",
    "    \n",
    "2. Detailed Interpretation:\n",
    "\n",
    "    The mean age of 53.69 years suggests that the central value (average) for male participants is around 53.69 years.\n",
    "    The standard deviation of 8.63 years shows how much individual ages deviate from this average. In a normal distribution, about:\n",
    "        68% of male ages will fall within one standard deviation of the mean, between 45.06 years and 62.32 years.\n",
    "        95% of male ages will fall within two standard deviations, between 36.43 years and 70.95 years.\n",
    "The spread is moderate, meaning there is some variation in the ages, but most of the ages are clustered around the mean of 53.69 years."
   ]
  },
  {
   "cell_type": "markdown",
   "id": "189c9329",
   "metadata": {},
   "source": [
    "#### Comparative analysis\n",
    "When comparing the standard deviation (SD) of males and females, we observe that females have a higher SD (9.02) compared to males (8.63). Here’s a detailed interpretation of what that means:\n",
    "Interpretation:\n",
    "\n",
    "    Mean age for females is 53.31 years, with a standard deviation of 9.02 years.\n",
    "    Mean age for males is 53.69 years, with a standard deviation of 8.63 years.\n",
    "\n",
    "While both means are nearly the same, the higher standard deviation for females (9.02) indicates that there is slightly more variability in female ages compared to males. In other words, the ages of females are spread out more from their mean compared to males.\n",
    "Comparison:\n",
    "\n",
    "    For females, most ages lie between 44.29 years and 62.33 years (one SD from the mean).\n",
    "    For males, most ages lie between 45.06 years and 62.32 years (one SD from the mean).\n",
    "\n",
    "Though these ranges are quite similar, the higher SD for females implies that their age distribution has slightly more individuals further away from the average age compared to males. This suggests a greater diversity in age among the females in your dataset.\n",
    "\n",
    "In essence, while the average age for both genders is almost the same, females show slightly more variation in age than males."
   ]
  },
  {
   "cell_type": "code",
   "execution_count": 133,
   "id": "bde81f32",
   "metadata": {},
   "outputs": [],
   "source": [
    "bmi_categories = {\n",
    "    \"Underweight\": {\n",
    "        \"range\": \"< 18.5\",\n",
    "        \"description\": \"Indicates a body weight that is too low for a healthy lifestyle.\"\n",
    "    },\n",
    "    \"Normal weight\": {\n",
    "        \"range\": \"18.5 - 24.9\",\n",
    "        \"description\": \"Indicates a healthy body weight.\"\n",
    "    },\n",
    "    \"Overweight\": {\n",
    "        \"range\": \"25.0 - 29.9\",\n",
    "        \"description\": \"Indicates excess body weight that may lead to health issues.\"\n",
    "    },\n",
    "    \"Obesity Class 1\": {\n",
    "        \"range\": \"30.0 - 34.9\",\n",
    "        \"description\": \"Moderate obesity, which increases the risk of health problems.\"\n",
    "    },\n",
    "    \"Obesity Class 2\": {\n",
    "        \"range\": \"35.0 - 39.9\",\n",
    "        \"description\": \"Severe obesity, significantly increasing health risks.\"\n",
    "    },\n",
    "    \"Obesity Class 3\": {\n",
    "        \"range\": \"≥ 40.0\",\n",
    "        \"description\": \"Very severe or morbid obesity, with a high risk of serious health conditions.\"\n",
    "    }\n",
    "}\n"
   ]
  },
  {
   "cell_type": "code",
   "execution_count": 134,
   "id": "d6222a2f",
   "metadata": {},
   "outputs": [],
   "source": [
    "def classify_bmi(x):\n",
    "    if x < 18.5:\n",
    "        return \"Underweight\"\n",
    "    elif 18.5 <= x <= 24.9:\n",
    "        return \"Normal weight\"  # Changed from \"Health\" to \"Normal weight\"\n",
    "    elif 25.0 <= x <= 29.9:\n",
    "        return \"Overweight\"\n",
    "    elif 30.0 <= x <= 34.9:\n",
    "        return \"Obesity Class 1\"\n",
    "    elif 35.0 <= x <= 39.9:\n",
    "        return \"Obesity Class 2\"\n",
    "    else:  # This covers x >= 40.0\n",
    "        return \"Obesity Class 3\""
   ]
  },
  {
   "cell_type": "markdown",
   "id": "f7d92c54",
   "metadata": {},
   "source": [
    "### ploting bmi"
   ]
  },
  {
   "cell_type": "code",
   "execution_count": 135,
   "id": "6d509780",
   "metadata": {},
   "outputs": [
    {
     "data": {
      "image/png": "[encoded data removed]",
      "text/plain": [
       "<Figure size 1000x600 with 1 Axes>"
      ]
     },
     "metadata": {},
     "output_type": "display_data"
    }
   ],
   "source": [
    "import matplotlib.pyplot as plt\n",
    "import pandas as pd\n",
    "\n",
    "# Sample data creation (replace this with your actual DataFrame)\n",
    "# Assuming 'data' is your DataFrame and it contains a column 'BMI'\n",
    "# data = pd.DataFrame({'BMI': [20, 22, 25, 30, 18, 24, 28, 27, 23, 26]})\n",
    "\n",
    "# Calculate quartiles\n",
    "Q1 = data['BMI'].quantile(0.25)\n",
    "Q2 = data['BMI'].quantile(0.50)  # Median\n",
    "Q3 = data['BMI'].quantile(0.75)\n",
    "\n",
    "# Create the box plot for BMI\n",
    "plt.figure(figsize=(10, 6))\n",
    "box = data['BMI'].plot(kind='box')\n",
    "\n",
    "# Add horizontal lines for each quartile\n",
    "plt.axhline(Q1, color='blue', linestyle='--', label='Q1')\n",
    "plt.axhline(Q2, color='orange', linestyle='--', label='Q2')\n",
    "plt.axhline(Q3, color='green', linestyle='--', label='Q3')\n",
    "\n",
    "# Annotate the quartile values\n",
    "plt.text(0.5, Q1, f'Q1: {Q1:.2f}', color='blue', fontsize=12, ha='center', va='bottom')\n",
    "plt.text(0.5, Q2, f'Q2: {Q2:.2f}', color='orange', fontsize=12, ha='center', va='bottom')\n",
    "plt.text(0.5, Q3, f'Q3: {Q3:.2f}', color='green', fontsize=12, ha='center', va='bottom')\n",
    "\n",
    "# Adding labels and title\n",
    "plt.title('Box Plot of BMI with Quartiles')\n",
    "plt.ylabel('BMI Values')\n",
    "plt.legend()\n",
    "\n",
    "# Show the plot\n",
    "plt.show()\n"
   ]
  },
  {
   "cell_type": "markdown",
   "id": "129c0e06",
   "metadata": {},
   "source": [
    "### CHECKING "
   ]
  },
  {
   "cell_type": "code",
   "execution_count": 136,
   "id": "c53a55f3",
   "metadata": {},
   "outputs": [],
   "source": [
    "data['BMI CATEGORY'] = data['BMI'].apply(classify_bmi)"
   ]
  },
  {
   "cell_type": "code",
   "execution_count": 137,
   "id": "a525a083",
   "metadata": {},
   "outputs": [
    {
     "data": {
      "text/plain": [
       "array(['Normal weight', 'Overweight', 'Obesity Class 1',\n",
       "       'Obesity Class 2', 'Obesity Class 3'], dtype=object)"
      ]
     },
     "execution_count": 137,
     "metadata": {},
     "output_type": "execute_result"
    }
   ],
   "source": [
    "data['BMI CATEGORY'].unique()"
   ]
  },
  {
   "cell_type": "code",
   "execution_count": 138,
   "id": "2eca2823",
   "metadata": {},
   "outputs": [
    {
     "data": {
      "text/plain": [
       "Obesity Class 1    359\n",
       "Overweight         284\n",
       "Normal weight      190\n",
       "Obesity Class 2    158\n",
       "Obesity Class 3      9\n",
       "Name: BMI CATEGORY, dtype: int64"
      ]
     },
     "execution_count": 138,
     "metadata": {},
     "output_type": "execute_result"
    }
   ],
   "source": [
    "data['BMI CATEGORY'].value_counts()"
   ]
  },
  {
   "cell_type": "code",
   "execution_count": 139,
   "id": "bb019e60",
   "metadata": {},
   "outputs": [
    {
     "data": {
      "image/png": "[encoded data removed]",
      "text/plain": [
       "<Figure size 1000x600 with 1 Axes>"
      ]
     },
     "metadata": {},
     "output_type": "display_data"
    }
   ],
   "source": [
    "import matplotlib.pyplot as plt\n",
    "import pandas as pd\n",
    "\n",
    "\n",
    "# Count the occurrences of each BMI category\n",
    "category_counts = data['BMI CATEGORY'].value_counts()\n",
    "\n",
    "# Create the bar plot\n",
    "plt.figure(figsize=(10, 6))\n",
    "bars = category_counts.plot(kind='bar', color='skyblue')\n",
    "\n",
    "# Adding title and labels\n",
    "plt.title('Count of BMI Categories')\n",
    "plt.xlabel('BMI Category')\n",
    "plt.ylabel('Count')\n",
    "\n",
    "# Annotate the bars with their values\n",
    "for bar in bars.patches:\n",
    "    plt.annotate(f'{bar.get_height()}', \n",
    "                 (bar.get_x() + bar.get_width() / 2, bar.get_height()), \n",
    "                 ha='center', va='bottom', fontsize=10)\n",
    "\n",
    "# Show the plot\n",
    "plt.xticks(rotation=45)\n",
    "plt.tight_layout()  # Adjust layout to make room for the labels\n",
    "plt.show()\n"
   ]
  },
  {
   "cell_type": "markdown",
   "id": "a4b0b4a6",
   "metadata": {},
   "source": [
    "###### Interpretation of BMI Category Counts\n",
    "\n",
    "    Obesity Class 1 (359 individuals):\n",
    "        This group represents the largest portion of the population analyzed, indicating that a significant number of individuals are classified as moderately obese. Obesity Class 1 typically refers to individuals with a BMI between 30 and 34.9. This high count suggests a prevalent issue of moderate obesity within the population, which may raise health concerns related to conditions such as cardiovascular disease, diabetes, and other obesity-related health issues.\n",
    "\n",
    "    Overweight (284 individuals):\n",
    "        The second largest category consists of individuals classified as overweight, with a BMI ranging from 25 to 29.9. The presence of 284 individuals in this category indicates that a substantial portion of the population is above the normal weight threshold but not yet classified as obese. This group is also at risk for similar health complications as those in Obesity Class 1, especially if weight management is not addressed.\n",
    "\n",
    "    Normal Weight (190 individuals):\n",
    "        This group includes individuals with a BMI between 18.5 and 24.9. The count of 190 indicates a smaller segment of the population is maintaining a healthy weight. While this is a positive sign, it suggests that there is room for improvement in promoting healthy weight management strategies among the larger population to increase the number of individuals in this category.\n",
    "\n",
    "    Obesity Class 2 (158 individuals):\n",
    "        Individuals in this category have a BMI between 35 and 39.9. With 158 individuals classified as Class 2 obesity, this represents a concerning health risk as they are classified as severely obese. This category may indicate a need for targeted interventions and healthcare resources to help individuals reduce weight and improve overall health.\n",
    "\n",
    "    Obesity Class 3 (9 individuals):\n",
    "        The smallest group, with only 9 individuals classified as Obesity Class 3 (BMI of 40 or greater), indicates extreme obesity. While this group is small in number, those affected are at a significantly higher risk for severe health issues. This emphasizes the importance of healthcare support for this vulnerable population segment.\n",
    "\n",
    "Overall Summary\n",
    "\n",
    "The data highlights a concerning trend of obesity within the population, particularly with a significant number of individuals falling into Obesity Class 1 and Overweight categories. The relatively low count of individuals in the Normal Weight and Obesity Class 3 categories indicates that there is an urgent need for public health interventions aimed at weight management and prevention strategies. The implications of these findings could guide health policies and programs focused on education, prevention, and treatment of obesity-related health issues."
   ]
  },
  {
   "cell_type": "code",
   "execution_count": 140,
   "id": "ae88c90d",
   "metadata": {},
   "outputs": [
    {
     "name": "stdout",
     "output_type": "stream",
     "text": [
      "\n",
      "Correlation Matrix:\n"
     ]
    },
    {
     "data": {
      "text/html": [
       "<div>\n",
       "<style scoped>\n",
       "    .dataframe tbody tr th:only-of-type {\n",
       "        vertical-align: middle;\n",
       "    }\n",
       "\n",
       "    .dataframe tbody tr th {\n",
       "        vertical-align: top;\n",
       "    }\n",
       "\n",
       "    .dataframe thead th {\n",
       "        text-align: right;\n",
       "    }\n",
       "</style>\n",
       "<table border=\"1\" class=\"dataframe\">\n",
       "  <thead>\n",
       "    <tr style=\"text-align: right;\">\n",
       "      <th></th>\n",
       "      <th>Gender</th>\n",
       "      <th>AGE</th>\n",
       "      <th>Urea</th>\n",
       "      <th>Cr</th>\n",
       "      <th>HbA1c</th>\n",
       "      <th>Chol</th>\n",
       "      <th>TG</th>\n",
       "      <th>HDL</th>\n",
       "      <th>LDL</th>\n",
       "      <th>VLDL</th>\n",
       "      <th>BMI</th>\n",
       "      <th>CLASS_ENCODED</th>\n",
       "    </tr>\n",
       "  </thead>\n",
       "  <tbody>\n",
       "    <tr>\n",
       "      <th>Gender</th>\n",
       "      <td>1.000000</td>\n",
       "      <td>0.021486</td>\n",
       "      <td>0.116311</td>\n",
       "      <td>0.154870</td>\n",
       "      <td>-0.009362</td>\n",
       "      <td>-0.064763</td>\n",
       "      <td>0.052111</td>\n",
       "      <td>-0.130130</td>\n",
       "      <td>0.054563</td>\n",
       "      <td>0.194120</td>\n",
       "      <td>0.072097</td>\n",
       "      <td>0.127381</td>\n",
       "    </tr>\n",
       "    <tr>\n",
       "      <th>AGE</th>\n",
       "      <td>0.021486</td>\n",
       "      <td>1.000000</td>\n",
       "      <td>0.105092</td>\n",
       "      <td>0.054941</td>\n",
       "      <td>0.379136</td>\n",
       "      <td>0.036649</td>\n",
       "      <td>0.148204</td>\n",
       "      <td>-0.020038</td>\n",
       "      <td>0.016105</td>\n",
       "      <td>-0.087903</td>\n",
       "      <td>0.375956</td>\n",
       "      <td>0.358132</td>\n",
       "    </tr>\n",
       "    <tr>\n",
       "      <th>Urea</th>\n",
       "      <td>0.116311</td>\n",
       "      <td>0.105092</td>\n",
       "      <td>1.000000</td>\n",
       "      <td>0.624134</td>\n",
       "      <td>-0.023603</td>\n",
       "      <td>0.001852</td>\n",
       "      <td>0.040980</td>\n",
       "      <td>-0.036994</td>\n",
       "      <td>-0.007301</td>\n",
       "      <td>-0.011191</td>\n",
       "      <td>0.045618</td>\n",
       "      <td>0.051303</td>\n",
       "    </tr>\n",
       "    <tr>\n",
       "      <th>Cr</th>\n",
       "      <td>0.154870</td>\n",
       "      <td>0.054941</td>\n",
       "      <td>0.624134</td>\n",
       "      <td>1.000000</td>\n",
       "      <td>-0.037412</td>\n",
       "      <td>-0.007097</td>\n",
       "      <td>0.056579</td>\n",
       "      <td>-0.023804</td>\n",
       "      <td>0.039479</td>\n",
       "      <td>0.009615</td>\n",
       "      <td>0.054746</td>\n",
       "      <td>0.034742</td>\n",
       "    </tr>\n",
       "    <tr>\n",
       "      <th>HbA1c</th>\n",
       "      <td>-0.009362</td>\n",
       "      <td>0.379136</td>\n",
       "      <td>-0.023603</td>\n",
       "      <td>-0.037412</td>\n",
       "      <td>1.000000</td>\n",
       "      <td>0.177489</td>\n",
       "      <td>0.218556</td>\n",
       "      <td>0.028933</td>\n",
       "      <td>0.011057</td>\n",
       "      <td>0.073462</td>\n",
       "      <td>0.413350</td>\n",
       "      <td>0.497838</td>\n",
       "    </tr>\n",
       "    <tr>\n",
       "      <th>Chol</th>\n",
       "      <td>-0.064763</td>\n",
       "      <td>0.036649</td>\n",
       "      <td>0.001852</td>\n",
       "      <td>-0.007097</td>\n",
       "      <td>0.177489</td>\n",
       "      <td>1.000000</td>\n",
       "      <td>0.321789</td>\n",
       "      <td>0.103814</td>\n",
       "      <td>0.416665</td>\n",
       "      <td>0.076294</td>\n",
       "      <td>0.013678</td>\n",
       "      <td>0.154675</td>\n",
       "    </tr>\n",
       "    <tr>\n",
       "      <th>TG</th>\n",
       "      <td>0.052111</td>\n",
       "      <td>0.148204</td>\n",
       "      <td>0.040980</td>\n",
       "      <td>0.056579</td>\n",
       "      <td>0.218556</td>\n",
       "      <td>0.321789</td>\n",
       "      <td>1.000000</td>\n",
       "      <td>-0.083001</td>\n",
       "      <td>0.015378</td>\n",
       "      <td>0.144570</td>\n",
       "      <td>0.110757</td>\n",
       "      <td>0.175269</td>\n",
       "    </tr>\n",
       "    <tr>\n",
       "      <th>HDL</th>\n",
       "      <td>-0.130130</td>\n",
       "      <td>-0.020038</td>\n",
       "      <td>-0.036994</td>\n",
       "      <td>-0.023804</td>\n",
       "      <td>0.028933</td>\n",
       "      <td>0.103814</td>\n",
       "      <td>-0.083001</td>\n",
       "      <td>1.000000</td>\n",
       "      <td>-0.142079</td>\n",
       "      <td>-0.059275</td>\n",
       "      <td>0.072409</td>\n",
       "      <td>-0.011517</td>\n",
       "    </tr>\n",
       "    <tr>\n",
       "      <th>LDL</th>\n",
       "      <td>0.054563</td>\n",
       "      <td>0.016105</td>\n",
       "      <td>-0.007301</td>\n",
       "      <td>0.039479</td>\n",
       "      <td>0.011057</td>\n",
       "      <td>0.416665</td>\n",
       "      <td>0.015378</td>\n",
       "      <td>-0.142079</td>\n",
       "      <td>1.000000</td>\n",
       "      <td>0.062795</td>\n",
       "      <td>-0.067322</td>\n",
       "      <td>-0.004698</td>\n",
       "    </tr>\n",
       "    <tr>\n",
       "      <th>VLDL</th>\n",
       "      <td>0.194120</td>\n",
       "      <td>-0.087903</td>\n",
       "      <td>-0.011191</td>\n",
       "      <td>0.009615</td>\n",
       "      <td>0.073462</td>\n",
       "      <td>0.076294</td>\n",
       "      <td>0.144570</td>\n",
       "      <td>-0.059275</td>\n",
       "      <td>0.062795</td>\n",
       "      <td>1.000000</td>\n",
       "      <td>0.198133</td>\n",
       "      <td>0.084305</td>\n",
       "    </tr>\n",
       "    <tr>\n",
       "      <th>BMI</th>\n",
       "      <td>0.072097</td>\n",
       "      <td>0.375956</td>\n",
       "      <td>0.045618</td>\n",
       "      <td>0.054746</td>\n",
       "      <td>0.413350</td>\n",
       "      <td>0.013678</td>\n",
       "      <td>0.110757</td>\n",
       "      <td>0.072409</td>\n",
       "      <td>-0.067322</td>\n",
       "      <td>0.198133</td>\n",
       "      <td>1.000000</td>\n",
       "      <td>0.492128</td>\n",
       "    </tr>\n",
       "    <tr>\n",
       "      <th>CLASS_ENCODED</th>\n",
       "      <td>0.127381</td>\n",
       "      <td>0.358132</td>\n",
       "      <td>0.051303</td>\n",
       "      <td>0.034742</td>\n",
       "      <td>0.497838</td>\n",
       "      <td>0.154675</td>\n",
       "      <td>0.175269</td>\n",
       "      <td>-0.011517</td>\n",
       "      <td>-0.004698</td>\n",
       "      <td>0.084305</td>\n",
       "      <td>0.492128</td>\n",
       "      <td>1.000000</td>\n",
       "    </tr>\n",
       "  </tbody>\n",
       "</table>\n",
       "</div>"
      ],
      "text/plain": [
       "                 Gender       AGE      Urea        Cr     HbA1c      Chol  \\\n",
       "Gender         1.000000  0.021486  0.116311  0.154870 -0.009362 -0.064763   \n",
       "AGE            0.021486  1.000000  0.105092  0.054941  0.379136  0.036649   \n",
       "Urea           0.116311  0.105092  1.000000  0.624134 -0.023603  0.001852   \n",
       "Cr             0.154870  0.054941  0.624134  1.000000 -0.037412 -0.007097   \n",
       "HbA1c         -0.009362  0.379136 -0.023603 -0.037412  1.000000  0.177489   \n",
       "Chol          -0.064763  0.036649  0.001852 -0.007097  0.177489  1.000000   \n",
       "TG             0.052111  0.148204  0.040980  0.056579  0.218556  0.321789   \n",
       "HDL           -0.130130 -0.020038 -0.036994 -0.023804  0.028933  0.103814   \n",
       "LDL            0.054563  0.016105 -0.007301  0.039479  0.011057  0.416665   \n",
       "VLDL           0.194120 -0.087903 -0.011191  0.009615  0.073462  0.076294   \n",
       "BMI            0.072097  0.375956  0.045618  0.054746  0.413350  0.013678   \n",
       "CLASS_ENCODED  0.127381  0.358132  0.051303  0.034742  0.497838  0.154675   \n",
       "\n",
       "                     TG       HDL       LDL      VLDL       BMI  CLASS_ENCODED  \n",
       "Gender         0.052111 -0.130130  0.054563  0.194120  0.072097       0.127381  \n",
       "AGE            0.148204 -0.020038  0.016105 -0.087903  0.375956       0.358132  \n",
       "Urea           0.040980 -0.036994 -0.007301 -0.011191  0.045618       0.051303  \n",
       "Cr             0.056579 -0.023804  0.039479  0.009615  0.054746       0.034742  \n",
       "HbA1c          0.218556  0.028933  0.011057  0.073462  0.413350       0.497838  \n",
       "Chol           0.321789  0.103814  0.416665  0.076294  0.013678       0.154675  \n",
       "TG             1.000000 -0.083001  0.015378  0.144570  0.110757       0.175269  \n",
       "HDL           -0.083001  1.000000 -0.142079 -0.059275  0.072409      -0.011517  \n",
       "LDL            0.015378 -0.142079  1.000000  0.062795 -0.067322      -0.004698  \n",
       "VLDL           0.144570 -0.059275  0.062795  1.000000  0.198133       0.084305  \n",
       "BMI            0.110757  0.072409 -0.067322  0.198133  1.000000       0.492128  \n",
       "CLASS_ENCODED  0.175269 -0.011517 -0.004698  0.084305  0.492128       1.000000  "
      ]
     },
     "execution_count": 140,
     "metadata": {},
     "output_type": "execute_result"
    }
   ],
   "source": [
    "import pandas as pd\n",
    "from sklearn.preprocessing import LabelEncoder\n",
    "\n",
    "# Load your dataset into a DataFrame (assuming 'data' is already defined)\n",
    "\n",
    "\n",
    "\n",
    "# Initialize LabelEncoder for encoding categorical variables\n",
    "le = LabelEncoder()\n",
    "\n",
    "# Encode the 'Gender' column\n",
    "gender_encode = le.fit_transform(data['Gender'])\n",
    "data['Gender'] = gender_encode\n",
    "\n",
    "# Encode the 'CLASS' column into a numerical format\n",
    "data['CLASS_ENCODED'] = le.fit_transform(data['CLASS'])\n",
    "\n",
    "# Drop unnecessary columns from the DataFrame\n",
    "data.drop(['ID', \"No_Pation\", \"CLASS\",\"BMI CATEGORY\"], axis=1, inplace=True)\n",
    "# Perform correlation analysis to identify relationships between features\n",
    "correlation_matrix = data.corr()\n",
    "\n",
    "# Print the correlation matrix to the console\n",
    "print(\"\\nCorrelation Matrix:\")\n",
    "correlation_matrix\n"
   ]
  },
  {
   "cell_type": "markdown",
   "id": "8666a31f",
   "metadata": {},
   "source": [
    "### Full Analysis of Correlation with Diabetes Status\n",
    "\n",
    "#### Overview of Correlation Analysis\n",
    "The correlation analysis conducted on the dataset reveals various relationships between the variables (e.g., Age, Urea, HbA1c, BMI) and the encoded class variable (**CLASS_ENCODED**), which indicates the presence or absence of diabetes. \n",
    "\n",
    "### Key Findings\n",
    "\n",
    "1. **Age and Diabetes**:\n",
    "   - **Correlation Coefficient**: **0.36**\n",
    "   - **Interpretation**: There is a moderate positive correlation between age and diabetes classification. This suggests that as age increases, the likelihood of being classified as diabetic also increases. Older adults may experience a higher risk due to factors such as declining metabolic health and lifestyle changes.\n",
    "\n",
    "2. **HbA1c and Diabetes**:\n",
    "   - **Correlation Coefficient**: **0.50**\n",
    "   - **Interpretation**: A strong positive correlation between HbA1c levels and diabetes status indicates that higher HbA1c levels (which reflect long-term blood glucose levels) are significantly associated with being classified as diabetic. This underlines the importance of regular HbA1c monitoring in diabetes management.\n",
    "\n",
    "3. **BMI and Diabetes**:\n",
    "   - **Correlation Coefficient**: **0.49**\n",
    "   - **Interpretation**: There is a significant positive correlation between BMI and diabetes classification. Individuals with higher BMI are more likely to be classified as diabetic. This finding reinforces the known relationship between obesity and diabetes, suggesting that weight management could be an effective preventive strategy.\n",
    "\n",
    "4. **Gender and Diabetes**:\n",
    "   - **Correlation Coefficient**: **0.13**\n",
    "   - **Interpretation**: The slight positive correlation suggests that men may be more associated with diabetes compared to women. Although not a strong correlation, this finding highlights the need for gender-specific interventions and awareness programs targeting men.\n",
    "\n",
    "5. **Urea and Diabetes**:\n",
    "   - **Correlation Coefficient**: **0.05**\n",
    "   - **Interpretation**: The weak positive correlation suggests a negligible relationship between urea levels and diabetes classification. This indicates that urea may not be a reliable indicator for diabetes risk in this dataset.\n",
    "\n",
    "6. **Cholesterol (Chol) and Diabetes**:\n",
    "   - **Correlation Coefficient**: **0.15**\n",
    "   - **Interpretation**: The positive correlation indicates a potential link between cholesterol levels and diabetes. Higher cholesterol levels may contribute to diabetes risk, warranting further investigation.\n",
    "\n",
    "7. **Triglycerides (TG) and Diabetes**:\n",
    "   - **Correlation Coefficient**: **0.18**\n",
    "   - **Interpretation**: A slight positive correlation indicates that higher triglyceride levels may also be associated with a greater likelihood of diabetes, consistent with existing research.\n",
    "\n",
    "### Implications for Public Health Strategies\n",
    "\n",
    "1. **Targeted Health Campaigns**:\n",
    "   - Develop targeted campaigns aimed at educating older adults about diabetes prevention, emphasizing the importance of regular health screenings and lifestyle modifications. \n",
    "\n",
    "2. **Weight Management Programs**:\n",
    "   - Implement programs focused on weight management and healthy eating to address obesity-related diabetes risk. Given the strong correlation between BMI and diabetes, these interventions could be pivotal in reducing diabetes prevalence.\n",
    "\n",
    "3. **Regular Monitoring of HbA1c**:\n",
    "   - Encourage regular monitoring of HbA1c levels among at-risk populations, particularly those with elevated BMI or age-related risks. Early detection through HbA1c testing can facilitate timely interventions.\n",
    "\n",
    "4. **Gender-Specific Initiatives**:\n",
    "   - Recognize the slight association of diabetes with gender and develop gender-specific initiatives to engage men in diabetes awareness and prevention strategies, particularly emphasizing the risks associated with lifestyle choices.\n",
    "\n",
    "5. **Integrated Care Approaches**:\n",
    "   - Incorporate a multi-faceted approach to diabetes management, integrating dietary, physical activity, and psychological support tailored to the needs of individuals based on their risk profiles, including age, gender, and BMI.\n",
    "\n",
    "6. **Continued Research**:\n",
    "   - Further research is needed to explore the nuances of how lifestyle factors, such as diet and physical activity, interact with biological factors (e.g., BMI, age) to influence diabetes risk. This knowledge can help refine intervention strategies.\n",
    "\n",
    "### Conclusion\n",
    "The correlation analysis reveals critical insights into factors associated with diabetes, highlighting the importance of age, HbA1c, BMI, and gender in diabetes classification. Public health strategies can leverage these findings to design more effective prevention and management programs, ultimately aiming to reduce the incidence and impact of diabetes within populations."
   ]
  },
  {
   "cell_type": "markdown",
   "id": "7143b25e",
   "metadata": {},
   "source": [
    "#### Model Development and training"
   ]
  },
  {
   "cell_type": "code",
   "execution_count": 142,
   "id": "eb762483",
   "metadata": {},
   "outputs": [
    {
     "name": "stdout",
     "output_type": "stream",
     "text": [
      "Accuracy: 0.95\n"
     ]
    }
   ],
   "source": [
    "import pandas as pd\n",
    "import numpy as np\n",
    "from sklearn.model_selection import train_test_split\n",
    "from sklearn.linear_model import LogisticRegression\n",
    "from sklearn.metrics import confusion_matrix, classification_report, accuracy_score\n",
    "from sklearn.preprocessing import LabelEncoder\n",
    "\n",
    "\n",
    "\n",
    "# Define features and target variable\n",
    "X = data.drop('CLASS_ENCODED', axis=1)  # Features\n",
    "y = data['CLASS_ENCODED']  # Target variable\n",
    "\n",
    "# Split the data into training and testing sets\n",
    "X_train, X_test, y_train, y_test = train_test_split(X, y, test_size=0.2, random_state=42)\n",
    "\n",
    "# Initialize the Logistic Regression model\n",
    "log_reg = LogisticRegression(max_iter=1000)\n",
    "\n",
    "# Fit the model on the training data\n",
    "log_reg.fit(X_train, y_train)\n",
    "\n",
    "# Make predictions on the test data\n",
    "y_pred = log_reg.predict(X_test)\n",
    "\n",
    "# Calculate accuracy\n",
    "accuracy = accuracy_score(y_test, y_pred)\n",
    "print(f'Accuracy: {accuracy:.2f}')\n"
   ]
  },
  {
   "cell_type": "code",
   "execution_count": 154,
   "id": "3032ba02",
   "metadata": {},
   "outputs": [
    {
     "name": "stdout",
     "output_type": "stream",
     "text": [
      "Confusion Matrix:\n"
     ]
    },
    {
     "data": {
      "text/plain": [
       "array([[ 17,   4],\n",
       "       [  6, 173]], dtype=int64)"
      ]
     },
     "execution_count": 154,
     "metadata": {},
     "output_type": "execute_result"
    }
   ],
   "source": [
    "# Display confusion matrix\n",
    "conf_matrix = confusion_matrix(y_test, y_pred)\n",
    "print('Confusion Matrix:')\n",
    "conf_matrix"
   ]
  },
  {
   "cell_type": "markdown",
   "id": "6d3bc87c",
   "metadata": {},
   "source": [
    "#### Interpretation:\n",
    "\n",
    "    True Positives (TP): 173\n",
    "        This indicates that 173 patients who actually have diabetes were correctly predicted to have diabetes by the model.\n",
    "    False Positives (FP): 4\n",
    "        This indicates that 4 patients who do not have diabetes were incorrectly predicted to have diabetes. This is also known as a Type I error.\n",
    "    False Negatives (FN): 6\n",
    "        This indicates that 6 patients who actually have diabetes were incorrectly predicted not to have diabetes. This is also known as a Type II error.\n",
    "    True Negatives (TN): 17\n",
    "        This indicates that 17 patients who do not have diabetes were correctly predicted not to have diabetes."
   ]
  },
  {
   "cell_type": "markdown",
   "id": "5aafd07a",
   "metadata": {},
   "source": [
    "#### Confusion Matrix Recap:\n",
    "\n",
    "\n",
    "Confusion Matrix:\n",
    "[[ 17,   4],   # Class 0 predictions\n",
    " [  6, 173]]   # Class 1 predictions\n",
    "\n",
    "    True Negatives (TN): 17 (Actual class 0, correctly predicted as class 0)\n",
    "    False Positives (FP): 4 (Actual class 0, incorrectly predicted as class 1)\n",
    "    False Negatives (FN): 6 (Actual class 1, incorrectly predicted as class 0)\n",
    "    True Positives (TP): 173 (Actual class 1, correctly predicted as class 1)"
   ]
  },
  {
   "cell_type": "code",
   "execution_count": 155,
   "id": "5bf2e6f0",
   "metadata": {},
   "outputs": [
    {
     "name": "stdout",
     "output_type": "stream",
     "text": [
      "Classification Report:\n",
      "              precision    recall  f1-score   support\n",
      "\n",
      "           0       0.74      0.81      0.77        21\n",
      "           1       0.98      0.97      0.97       179\n",
      "\n",
      "    accuracy                           0.95       200\n",
      "   macro avg       0.86      0.89      0.87       200\n",
      "weighted avg       0.95      0.95      0.95       200\n",
      "\n"
     ]
    }
   ],
   "source": [
    "# Display classification report\n",
    "class_report = classification_report(y_test, y_pred)\n",
    "print('Classification Report:')\n",
    "print(class_report)"
   ]
  },
  {
   "cell_type": "markdown",
   "id": "f5353b41",
   "metadata": {},
   "source": [
    "##### The classification report provides a detailed overview of the performance of a classification model, specifically for a binary classification problem in this case (with classes labeled as 0 and 1). Here’s the interpretation of each section:\n",
    "Class-Level Metrics:\n",
    "\n",
    "    Class 0 (Negative Class)\n",
    "        Precision (0.74): This indicates that 74% of the predictions made for class 0 were correct. Precision is the ratio of true positives (TP) to the sum of true positives and false positives (TP + FP).\n",
    "        Recall (0.81): This means that the model correctly identified 81% of the actual class 0 instances. Recall is the ratio of true positives to the sum of true positives and false negatives (TP + FN).\n",
    "        F1-score (0.77): This is the harmonic mean of precision and recall, providing a single metric that balances both. An F1-score of 0.77 indicates a reasonable balance between precision and recall for class 0.\n",
    "        Support (21): This is the number of actual instances in the dataset for class 0. There were 21 true instances of class 0.\n",
    "\n",
    "    Class 1 (Positive Class)\n",
    "        Precision (0.98): The model achieved a precision of 98% for class 1, meaning that nearly all predictions made for this class were correct.\n",
    "        Recall (0.97): The model successfully identified 97% of the actual class 1 instances, indicating that it missed only a small number of true positives.\n",
    "        F1-score (0.97): The F1-score is very high at 0.97, suggesting excellent precision and recall for class 1.\n",
    "        Support (179): There were 179 actual instances of class 1 in the dataset.\n",
    "\n",
    "Overall Metrics:\n",
    "\n",
    "    Accuracy (0.95): The overall accuracy of the model is 95%, meaning it correctly classified 95% of all instances in the dataset.\n",
    "\n",
    "    Macro Average:\n",
    "        Precision (0.86): This is the average precision across both classes, giving equal weight to both classes regardless of their support.\n",
    "        Recall (0.89): The macro average recall also provides an average performance across classes.\n",
    "        F1-score (0.87): The macro average F1-score shows a balance of precision and recall across both classes.\n",
    "\n",
    "    Weighted Average:\n",
    "        Precision (0.95): This takes into account the number of instances in each class, providing a more representative measure of precision given the class distribution.\n",
    "        Recall (0.95): The weighted recall reflects the model's overall performance, weighted by the number of instances in each class.\n",
    "        F1-score (0.95): The weighted F1-score indicates an excellent balance between precision and recall, considering the distribution of classes.\n",
    "\n",
    "Implications:\n",
    "\n",
    "    The model performs well in distinguishing between the two classes, particularly excelling in identifying class 1 (the positive class) with very high precision and recall.\n",
    "    The performance on class 0 (the negative class) is decent but not as strong, suggesting that there may be room for improvement in correctly identifying instances of class 0.\n",
    "    Given the imbalance in class support (21 instances of class 0 vs. 179 instances of class 1), the high metrics for class 1 contribute significantly to the overall performance, making it essential to focus on improving performance on class 0 if a balanced model is desired."
   ]
  },
  {
   "cell_type": "code",
   "execution_count": null,
   "id": "73813f4a",
   "metadata": {},
   "outputs": [],
   "source": []
  }
 ],
 "metadata": {
  "kernelspec": {
   "display_name": "Python 3 (ipykernel)",
   "language": "python",
   "name": "python3"
  },
  "language_info": {
   "codemirror_mode": {
    "name": "ipython",
    "version": 3
   },
   "file_extension": ".py",
   "mimetype": "text/x-python",
   "name": "python",
   "nbconvert_exporter": "python",
   "pygments_lexer": "ipython3",
   "version": "3.10.9"
  }
 },
 "nbformat": 4,
 "nbformat_minor": 5
}
